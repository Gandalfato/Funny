{
  "nbformat": 4,
  "nbformat_minor": 0,
  "metadata": {
    "colab": {
      "name": "Untitled9.ipynb",
      "provenance": [],
      "authorship_tag": "ABX9TyOAWR/rDkMibA9s5Pg6ZInI",
      "include_colab_link": true
    },
    "kernelspec": {
      "name": "python3",
      "display_name": "Python 3"
    },
    "language_info": {
      "name": "python"
    }
  },
  "cells": [
    {
      "cell_type": "markdown",
      "metadata": {
        "id": "view-in-github",
        "colab_type": "text"
      },
      "source": [
        "<a href=\"https://colab.research.google.com/github/Gandalfato/Funny/blob/main/First%20assignement%20Regex.ipynb\" target=\"_parent\"><img src=\"https://colab.research.google.com/assets/colab-badge.svg\" alt=\"Open In Colab\"/></a>"
      ]
    },
    {
      "cell_type": "code",
      "execution_count": null,
      "metadata": {
        "id": "KcXj-kmTiiJ5"
      },
      "outputs": [],
      "source": [
        "#DataScience Specialization Training Program\n",
        "#Registration ID: DIRSS3141\n",
        "#Name: Mattia Gentile"
      ]
    },
    {
      "cell_type": "code",
      "source": [
        "#Q1. Write a lambda expression to extract first word of a string.\n",
        "#Q2. Write a function to extract first word of s string (with many words separated by space).\n",
        "string=\"Questions are never indiscreet; answers sometimes are.\"\n",
        "FirstWord=lambda first: first.split()[0]\n",
        "print(FirstWord(string))"
      ],
      "metadata": {
        "colab": {
          "base_uri": "https://localhost:8080/"
        },
        "id": "rHQj5a_-io-A",
        "outputId": "d00ce287-f197-4478-f8a2-0db5964c9748"
      },
      "execution_count": null,
      "outputs": [
        {
          "output_type": "stream",
          "name": "stdout",
          "text": [
            "Questions\n"
          ]
        }
      ]
    },
    {
      "cell_type": "code",
      "source": [
        "#Q3. Extract the first word from every string from a list of strings by using map function.\n",
        "ListString=[\"Questions are never indiscreet; answers sometimes are.\",\"The only thing that one really knows about human nature is that it changes.\",\n",
        "            \"A man who does not think for himself does not think at all.\",\"All sympathy is fine, but sympathy with suffering is the least fine mode.\"]\n",
        "def FirstWord(l):\n",
        "  for sentence in l:\n",
        "    sentence=sentence.split()\n",
        "    Word=sentence[0]\n",
        "    print(Word)\n",
        "\n",
        "FirstWord(ListString)"
      ],
      "metadata": {
        "colab": {
          "base_uri": "https://localhost:8080/"
        },
        "id": "pSOu9Gl2ledb",
        "outputId": "99203b51-e4fe-4f76-8181-64e632f46594"
      },
      "execution_count": null,
      "outputs": [
        {
          "output_type": "stream",
          "name": "stdout",
          "text": [
            "Questions\n",
            "The\n",
            "A\n",
            "All\n"
          ]
        }
      ]
    },
    {
      "cell_type": "code",
      "source": [
        "#Q4. Write a function to return a list of prime factors of a given number.\n",
        "def PrimeFactor(n):\n",
        "  FactorList=[]\n",
        "  i=2\n",
        "  while n>=i:\n",
        "    if n%i==0:\n",
        "      FactorList.append(i)\n",
        "      n=n//i\n",
        "    i+=1\n",
        "  print(FactorList)\n",
        "\n",
        "Num=input(\"Choose a number, I will scompose it in prime factors: \")\n",
        "Num=int(Num)\n",
        "PrimeFactor(Num)"
      ],
      "metadata": {
        "colab": {
          "base_uri": "https://localhost:8080/"
        },
        "id": "bIavm1ykwNuF",
        "outputId": "15eb7afe-8233-420b-a951-431abbef4985"
      },
      "execution_count": null,
      "outputs": [
        {
          "output_type": "stream",
          "name": "stdout",
          "text": [
            "Choose a number, I will scompose it in prime factors: 30\n",
            "[2, 3, 5]\n"
          ]
        }
      ]
    },
    {
      "cell_type": "code",
      "source": [
        "#Q5. Write a function that finds 2nd largest among 4 numbers (Repetitions are allowed, without sorting).\n",
        "NumList=[23,40,5,6]\n",
        "def FindLargestNum(l):\n",
        "  LargestNum=0\n",
        "  for n in l:\n",
        "    if n>=LargestNum:\n",
        "      LargestNum=n\n",
        "    else:\n",
        "      pass\n",
        "  return LargestNum\n",
        "\n",
        "#define Largest number form first list\n",
        "LargestNum1=FindLargestNum(NumList)\n",
        "#remove first largest num\n",
        "NumList.remove(LargestNum1)\n",
        "#define II Largest number form list\n",
        "LargestNum2=FindLargestNum(NumList)\n",
        "\n",
        "print(LargestNum2)\n"
      ],
      "metadata": {
        "colab": {
          "base_uri": "https://localhost:8080/"
        },
        "id": "ldTDIipeo3B-",
        "outputId": "51abef37-49db-4459-f67b-7e5232f1d738"
      },
      "execution_count": 24,
      "outputs": [
        {
          "output_type": "stream",
          "name": "stdout",
          "text": [
            "23\n"
          ]
        }
      ]
    },
    {
      "cell_type": "code",
      "source": [
        "#Q6. Take an input from the user as string and find out all the non duplicate words from the input\n",
        "def uniquify(sentence):\n",
        "  sentence=sentence.split()\n",
        "  WordCointainer=[]\n",
        "  for word in sentence:\n",
        "    if word not in WordCointainer:\n",
        "      WordCointainer.append(word)\n",
        "    else:\n",
        "      pass\n",
        "  print(\" \".join(WordCointainer))\n",
        "\n",
        "sentence=input(\"write a sentence: \")\n",
        "sentence=sentence.lower()\n",
        "uniquify(sentence)"
      ],
      "metadata": {
        "colab": {
          "base_uri": "https://localhost:8080/"
        },
        "id": "P-vOTmSNnzR7",
        "outputId": "c513c7b1-fdaa-44b1-8104-a2a862d18f43"
      },
      "execution_count": 26,
      "outputs": [
        {
          "output_type": "stream",
          "name": "stdout",
          "text": [
            "write a sentence: hello I am good hello user, user welcome\n",
            "hello i am good user, user welcome\n"
          ]
        }
      ]
    },
    {
      "cell_type": "code",
      "source": [
        "#Q7. Take a input from the user and verify the data is a palindrome or not\n",
        "def control(word):\n",
        "  l=1\n",
        "  lenght=len(word)\n",
        "  nuova=\"\"\n",
        "  while l <= lenght:\n",
        "    letter=word[-l]\n",
        "    nuova+=letter\n",
        "    l+=1\n",
        "  if (str(nuova))==word:\n",
        "    print(f\"{word} is a palindrome\")\n",
        "  else:\n",
        "    print(f\"{word} is not a palindrome\")\n",
        "\n",
        "Winput=input(\"Choose a word:\").lower()\n",
        "control(Winput)  "
      ],
      "metadata": {
        "colab": {
          "base_uri": "https://localhost:8080/"
        },
        "id": "SuQZ09jNn_aG",
        "outputId": "1052481e-f19e-4474-c46b-03f8c11a40f2"
      },
      "execution_count": 27,
      "outputs": [
        {
          "output_type": "stream",
          "name": "stdout",
          "text": [
            "Choose a word:NAMAN\n",
            "naman is a palindrome\n"
          ]
        }
      ]
    },
    {
      "cell_type": "code",
      "source": [
        "#Q8. Use exception handling to find out the LCM & HCF of two numbers - Input of two numbers has to be given by the user\n",
        "def LCM(a,b): \n",
        "  NumMax=max(a,b)\n",
        "  for j in range(NumMax, (a * b + 1)):\n",
        "    if (j%a==0 and j%b==0):\n",
        "      lcm= j\n",
        "    else:\n",
        "      j+=1\n",
        "  print(f\"LCM of {a} and {b} is: {j}\")\n",
        "\n",
        "def HCF (a,b):\n",
        "  x=min(a,b)\n",
        "  for i in range(1,x):\n",
        "    if a % i == 0 and b % i==0:\n",
        "        hcf = i\n",
        "    else:\n",
        "      i-=1\n",
        "  print(f\"HCF of {a} and {b} is: {hcf}\")\n",
        "\n",
        "    \n",
        "x =int( input(\"first num: \"))\n",
        "y = int(input(\"second num: \"))\n",
        "\n",
        "LCM(x,y)\n",
        "HCF(x,y)"
      ],
      "metadata": {
        "colab": {
          "base_uri": "https://localhost:8080/"
        },
        "id": "a1QoUQSyodTN",
        "outputId": "fda211d1-6d2f-4d08-e770-07e244ecc05f"
      },
      "execution_count": 30,
      "outputs": [
        {
          "output_type": "stream",
          "name": "stdout",
          "text": [
            "first num: 20\n",
            "second num: 30\n",
            "LCM of 20 and 30 is: 600\n",
            "HCF of 20 and 30 is: 10\n"
          ]
        }
      ]
    },
    {
      "cell_type": "code",
      "source": [
        ""
      ],
      "metadata": {
        "id": "Y3jUtSwFo3vX"
      },
      "execution_count": null,
      "outputs": []
    }
  ]
}